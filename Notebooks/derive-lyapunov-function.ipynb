{
 "cells": [
  {
   "cell_type": "code",
   "execution_count": 1,
   "metadata": {},
   "outputs": [],
   "source": [
    "# This package is for doing symbolic math in python\n",
    "from sympy import *"
   ]
  },
  {
   "cell_type": "markdown",
   "metadata": {},
   "source": [
    "### Create symbolic variables\n",
    "Using unicode symbols for math is quite nice"
   ]
  },
  {
   "cell_type": "code",
   "execution_count": 2,
   "metadata": {},
   "outputs": [],
   "source": [
    "θ, α, θ̇, α̇, θ̈, α̈ = symbols('θ α θ̇ α̇  θ̈ α̈')\n",
    "rm, kt, km, mr, Lr, Jr, Dr, mp, Lp, Jp, Dp, g, τ = symbols('rm kt km mr Lr Jr Dr mp Lp Jp Dp g τ')\n"
   ]
  },
  {
   "cell_type": "code",
   "execution_count": 3,
   "metadata": {},
   "outputs": [],
   "source": [
    "init_printing(use_unicode=True) # Allows for latex-like equations"
   ]
  },
  {
   "cell_type": "code",
   "execution_count": 4,
   "metadata": {},
   "outputs": [
    {
     "name": "stdout",
     "output_type": "stream",
     "text": [
      "θ=θ, α=α, θ̇=θ̇, α̇=α̇, θ̈=θ̈, α̈=α̈\n",
      "rm=rm, kt=kt, km=km, mr=mr, Lr=Lr, Jr=Jr, Dr=Dr, mp=mp, Lp=Lp, Jp=Jp, Dp=Dp, g=g, τ=τ\n"
     ]
    }
   ],
   "source": [
    "# Make sure symbols match what they are supposed to match\n",
    "print('θ={}, α={}, θ̇={}, α̇={}, θ̈={}, α̈={}'.format(θ, α, θ̇, α̇, θ̈, α̈))\n",
    "print('rm={}, kt={}, km={}, mr={}, Lr={}, Jr={}, Dr={}, mp={}, Lp={}, Jp={}, Dp={}, g={}, τ={}'.format(rm, kt, km, mr, Lr, Jr, Dr, mp, Lp, Jp, Dp, g, τ))\n"
   ]
  },
  {
   "cell_type": "code",
   "execution_count": 39,
   "metadata": {},
   "outputs": [],
   "source": [
    "# Copied from the derive-simulator notebook\n",
    "# θ̈ = (-Lp*Lr*mp*(-8*Dp*α̇ + Lp**2*mp*θ̇**2*sin(2*α) + 4*Lp*g*mp*sin(α))*cos(α) + (4*Jp + Lp**2*mp)*(4*Dr*θ̇ + Lp**2*mp*α̇*θ̇*sin(2*α) + 2*Lp*Lr*mp*α̇**2*sin(α) - 4*τ))/(4*Lp**2*Lr**2*mp**2*cos(α)**2 - (4*Jp + Lp**2*mp)*(4*Jr + Lp**2*mp*sin(α)**2 + 4*Lr**2*mp))\n",
    "# α̈ = (2*Lp*Lr*mp*(4*Dr*θ̇ + Lp**2*mp*α̇*θ̇*sin(2*α) + 2*Lp*Lr*mp*α̇**2*sin(α) - 4*τ)*cos(α) - 0.5*(4*Jr + Lp**2*mp*sin(α)**2 + 4*Lr**2*mp)*(-8*Dp*α̇ + Lp**2*mp*θ̇**2*sin(2*α) + 4*Lp*g*mp*sin(α)))/(4*Lp**2*Lr**2*mp**2*cos(α)**2 - (4*Jp + Lp**2*mp)*(4*Jr + Lp**2*mp*sin(α)**2 + 4*Lr**2*mp))\n",
    "α̈ = (2*Lp*Lr*mp*(4*Dr*θ̇ + Lp**2*mp*α̇*θ̇*sin(2*α) + 2*Lp*Lr*mp*α̇**2*sin(α) - 4*τ)*cos(α) - 0.5*(4*Jr + Lp**2*mp*sin(α)**2 + 4*Lr**2*mp)*(-8*Dp*α̇ + Lp**2*mp*θ̇**2*sin(2*α) + 4*Lp*g*mp*sin(α)))/(4*Lp**2*Lr**2*mp**2*cos(α)**2 - (4*Jp + Lp**2*mp)*(4*Jr + Lp**2*mp*sin(α)**2 + 4*Lr**2*mp))\n",
    "θ̈ = (-Lp*Lr*mp*(-8*Dp*α̇ + Lp**2*mp*θ̇**2*sin(2*α) + 4*Lp*g*mp*sin(α))*cos(α) + (4*Jp + Lp**2*mp)*(4*Dr*θ̇ + Lp**2*mp*α̇*θ̇*sin(2*α) + 2*Lp*Lr*mp*α̇**2*sin(α) - 4*τ))/(4*Lp**2*Lr**2*mp**2*cos(α)**2 - (4*Jp + Lp**2*mp)*(4*Jr + Lp**2*mp*sin(α)**2 + 4*Lr**2*mp))\n",
    "\n"
   ]
  },
  {
   "cell_type": "code",
   "execution_count": null,
   "metadata": {},
   "outputs": [],
   "source": []
  },
  {
   "cell_type": "markdown",
   "metadata": {},
   "source": [
    "### Derive the energy of the system"
   ]
  },
  {
   "cell_type": "code",
   "execution_count": 40,
   "metadata": {},
   "outputs": [],
   "source": [
    "Ep = (1/2) * mp * g * Lp * (1 - cos(α))\n",
    "Ek = (1/2) * Jp * α̇**2\n"
   ]
  },
  {
   "cell_type": "code",
   "execution_count": null,
   "metadata": {},
   "outputs": [],
   "source": [
    "\n",
    "\n",
    "\n",
    "\n",
    "\n",
    "\n",
    "\n",
    "\n",
    "\n",
    "\n",
    "\n",
    "\n",
    "\n",
    "\n",
    "\n",
    "\n"
   ]
  },
  {
   "cell_type": "markdown",
   "metadata": {},
   "source": [
    "## From the derive simulator workbook\n",
    "\n",
    "We break each of these into their component parts (i.e. k1*θ̇, k2*θ̇*α̇, etc...). This doesn't include the angle because that would be fucking impossible...\n",
    "Once we get everything into component parts (need to do some simplification on paper), check to make sure they are correct.\n",
    "\n",
    "![](./pics/derived_eq_order.png)"
   ]
  },
  {
   "cell_type": "markdown",
   "metadata": {},
   "source": [
    "So here for $\\ddot \\alpha$ it would be:\n",
    "\n",
    "$$\\ddot\\alpha = \\frac{1}{z(\\alpha)} \\Big[\n",
    "    a \\dot\\theta cos(\\alpha)\n",
    "    + b\\dot\\theta \\dot\\alpha sin(2\\alpha) cos(\\alpha) \n",
    "    + c \\dot\\alpha^2 sin(\\alpha) cos(\\alpha)\n",
    "    + u \\tau cos(\\alpha)\n",
    "%     \n",
    "    + [g\\dot\\alpha + h \\dot\\theta^2 sin(2\\alpha) + i sin(\\alpha)](d+f)\n",
    "    + [sin^2(\\alpha) g \\dot\\alpha + h sin^2(\\alpha) \\dot\\theta^2 sin(2\\alpha)+ i sin^3(\\alpha)](e)\n",
    "\\Big]$$\n",
    "\n",
    "Where z is that overly complicated thing at the bottom"
   ]
  },
  {
   "cell_type": "code",
   "execution_count": 41,
   "metadata": {},
   "outputs": [],
   "source": [
    "z = (4*Lp**2*Lr**2*mp**2*cos(α)**2 - (4*Jp + Lp**2*mp)*(4*Jr + Lp**2*mp*sin(α)**2 + 4*Lr**2*mp))\n",
    "a = 2*Lp*Lr*mp*(4*Dr)\n",
    "b = 2*Lp*Lr*mp*(Lp**2*mp)\n",
    "c = 2*Lp*Lr*mp*(2*Lp*Lr*mp)\n",
    "u = 2*Lp*Lr*mp*(-4)\n",
    "d = - (1/2)*(4*Jr)\n",
    "e = - (1/2)*(Lp**2*mp)\n",
    "f = - (1/2)*(4*Lr**2*mp)\n",
    "g = (-8*Dp)\n",
    "h = (Lp**2*mp)\n",
    "i = (4*Lp*g*mp)\n",
    "# z, a, b, c, u, d, e, f, g, h, i = symbols('z, a, b, c, u, d, e, f, g, h, i')\n"
   ]
  },
  {
   "cell_type": "code",
   "execution_count": 42,
   "metadata": {},
   "outputs": [
    {
     "data": {
      "image/png": "[encoded data removed]",
      "text/latex": [
       "$$\\frac{8 Dr Lp Lr mp θ̇ \\cos{\\left (α \\right )} + 2 Lp^{3} Lr mp^{2} α̇ θ̇ \\sin{\\left (2 α \\right )} \\cos{\\left (α \\right )} + 4 Lp^{2} Lr^{2} mp^{2} α̇^{2} \\sin{\\left (α \\right )} \\cos{\\left (α \\right )} - 0.5 Lp^{2} mp \\left(- 32 Dp Lp mp \\sin^{3}{\\left (α \\right )} - 8 Dp α̇ \\sin^{2}{\\left (α \\right )} + Lp^{2} mp θ̇^{2} \\sin^{2}{\\left (α \\right )}\\right) - 8 Lp Lr mp τ \\cos{\\left (α \\right )} + \\left(- 2.0 Jr - 2.0 Lr^{2} mp\\right) \\left(- 32 Dp Lp mp \\sin{\\left (α \\right )} - 8 Dp α̇ + Lp^{2} mp θ̇^{2} \\sin^{2}{\\left (α \\right )}\\right)}{4 Lp^{2} Lr^{2} mp^{2} \\cos^{2}{\\left (α \\right )} - \\left(4 Jp + Lp^{2} mp\\right) \\left(4 Jr + Lp^{2} mp \\sin^{2}{\\left (α \\right )} + 4 Lr^{2} mp\\right)} = 0$$"
      ],
      "text/plain": [
       "                              3      2                             2   2   2  \n",
       "8⋅Dr⋅Lp⋅Lr⋅mp⋅θ̇⋅cos(α) + 2⋅Lp ⋅Lr⋅mp ⋅α̇⋅θ̇⋅sin(2⋅α)⋅cos(α) + 4⋅Lp ⋅Lr ⋅mp ⋅α\n",
       "──────────────────────────────────────────────────────────────────────────────\n",
       "                                                                              \n",
       "                                                                              \n",
       "\n",
       " 2                       2    ⎛                 3                 2        2  \n",
       "̇ ⋅sin(α)⋅cos(α) - 0.5⋅Lp ⋅mp⋅⎝- 32⋅Dp⋅Lp⋅mp⋅sin (α) - 8⋅Dp⋅α̇⋅sin (α) + Lp ⋅m\n",
       "──────────────────────────────────────────────────────────────────────────────\n",
       "                        2   2   2    2      ⎛         2   ⎞ ⎛         2       \n",
       "                    4⋅Lp ⋅Lr ⋅mp ⋅cos (α) - ⎝4⋅Jp + Lp ⋅mp⎠⋅⎝4⋅Jr + Lp ⋅mp⋅sin\n",
       "\n",
       "    2    2   ⎞                         ⎛                2   ⎞ ⎛               \n",
       "p⋅θ̇ ⋅sin (α)⎠ - 8⋅Lp⋅Lr⋅mp⋅τ⋅cos(α) + ⎝-2.0⋅Jr - 2.0⋅Lr ⋅mp⎠⋅⎝-32⋅Dp⋅Lp⋅mp⋅si\n",
       "──────────────────────────────────────────────────────────────────────────────\n",
       "2          2   ⎞                                                              \n",
       " (α) + 4⋅Lr ⋅mp⎠                                                              \n",
       "\n",
       "                   2      2    2   ⎞    \n",
       "n(α) - 8⋅Dp⋅α̇ + Lp ⋅mp⋅θ̇ ⋅sin (α)⎠    \n",
       "──────────────────────────────────── = 0\n",
       "                                        \n",
       "                                        "
      ]
     },
     "execution_count": 42,
     "metadata": {},
     "output_type": "execute_result"
    }
   ],
   "source": [
    "# Should be equal to the original\n",
    "α̈_2 = (1/z) * (\n",
    "    a*θ̇*cos(α) + \n",
    "    b*α̇*θ̇*sin(2*α)*cos(α) + \n",
    "    c*α̇**2*sin(α)*cos(α) + \n",
    "    u*τ*cos(α) +\n",
    "    (d+f) * (g*α̇ + h*θ̇**2*sin(α)**2 + i*sin(α)) + \n",
    "    e * (sin(α)**2*g*α̇ + h*θ̇**2*sin(α)**2 + i*sin(α)**3)\n",
    ")\n",
    "α̈_num = (\n",
    "    a*θ̇*cos(α) + \n",
    "    b*α̇*θ̇*sin(2*α)*cos(α) + \n",
    "    c*α̇**2*sin(α)*cos(α) + \n",
    "    u*τ*cos(α) +\n",
    "    (d+f) * (g*α̇ + h*θ̇**2*sin(α)**2 + i*sin(α)) + \n",
    "    e * (sin(α)**2*g*α̇ + h*θ̇**2*sin(α)**2 + i*sin(α)**3)\n",
    ")\n",
    "Eq(α̈_2)"
   ]
  },
  {
   "cell_type": "code",
   "execution_count": 44,
   "metadata": {},
   "outputs": [
    {
     "data": {
      "image/png": "[encoded data removed]",
      "text/latex": [
       "$$\\frac{1.0 Lp^{2} mp θ̇^{2} \\left(2.0 Jr \\sin^{2}{\\left (α \\right )} - 2.0 Jr \\sin{\\left (2 α \\right )} - 1.0 Lp^{2} mp \\sin^{3}{\\left (α \\right )} \\cos{\\left (α \\right )} + 0.5 Lp^{2} mp \\sin^{2}{\\left (α \\right )} + 2.0 Lr^{2} mp \\sin^{2}{\\left (α \\right )} - 2.0 Lr^{2} mp \\sin{\\left (2 α \\right )}\\right)}{16.0 Jp Jr + 4.0 Jp Lp^{2} mp \\sin^{2}{\\left (α \\right )} + 16.0 Jp Lr^{2} mp + 4.0 Jr Lp^{2} mp + 1.0 Lp^{4} mp^{2} \\sin^{2}{\\left (α \\right )} + 4.0 Lp^{2} Lr^{2} mp^{2} \\sin^{2}{\\left (α \\right )}}$$"
      ],
      "text/plain": [
       "      2      2 ⎛          2                              2       3            \n",
       "1.0⋅Lp ⋅mp⋅θ̇ ⋅⎝2.0⋅Jr⋅sin (α) - 2.0⋅Jr⋅sin(2⋅α) - 1.0⋅Lp ⋅mp⋅sin (α)⋅cos(α) +\n",
       "──────────────────────────────────────────────────────────────────────────────\n",
       "                                   2       2                2               2 \n",
       "             16.0⋅Jp⋅Jr + 4.0⋅Jp⋅Lp ⋅mp⋅sin (α) + 16.0⋅Jp⋅Lr ⋅mp + 4.0⋅Jr⋅Lp ⋅\n",
       "\n",
       "       2       2            2       2            2            ⎞\n",
       " 0.5⋅Lp ⋅mp⋅sin (α) + 2.0⋅Lr ⋅mp⋅sin (α) - 2.0⋅Lr ⋅mp⋅sin(2⋅α)⎠\n",
       "───────────────────────────────────────────────────────────────\n",
       "           4   2    2            2   2   2    2                \n",
       "mp + 1.0⋅Lp ⋅mp ⋅sin (α) + 4.0⋅Lp ⋅Lr ⋅mp ⋅sin (α)             "
      ]
     },
     "execution_count": 44,
     "metadata": {},
     "output_type": "execute_result"
    }
   ],
   "source": [
    "simplify(α̈_2 - α̈)"
   ]
  },
  {
   "cell_type": "code",
   "execution_count": null,
   "metadata": {},
   "outputs": [],
   "source": []
  },
  {
   "cell_type": "code",
   "execution_count": 52,
   "metadata": {},
   "outputs": [
    {
     "data": {
      "image/png": "[encoded data removed]",
      "text/latex": [
       "$$Lp^{2} mp θ̇^{2} \\left(2.0 Jr \\sin^{2}{\\left (α \\right )} - 2.0 Jr \\sin{\\left (2 α \\right )} - 1.0 Lp^{2} mp \\sin^{3}{\\left (α \\right )} \\cos{\\left (α \\right )} + 0.5 Lp^{2} mp \\sin^{2}{\\left (α \\right )} + 2.0 Lr^{2} mp \\sin^{2}{\\left (α \\right )} - 2.0 Lr^{2} mp \\sin{\\left (2 α \\right )}\\right)$$"
      ],
      "text/plain": [
       "  2      2 ⎛          2                              2       3                \n",
       "Lp ⋅mp⋅θ̇ ⋅⎝2.0⋅Jr⋅sin (α) - 2.0⋅Jr⋅sin(2⋅α) - 1.0⋅Lp ⋅mp⋅sin (α)⋅cos(α) + 0.5\n",
       "\n",
       "   2       2            2       2            2            ⎞\n",
       "⋅Lp ⋅mp⋅sin (α) + 2.0⋅Lr ⋅mp⋅sin (α) - 2.0⋅Lr ⋅mp⋅sin(2⋅α)⎠"
      ]
     },
     "execution_count": 52,
     "metadata": {},
     "output_type": "execute_result"
    }
   ],
   "source": [
    "# - (1/2)*(4*Jr + Lp**2*mp*sin(α)**2 + 4*Lr**2*mp)*(-8*Dp*α̇ + Lp**2*mp*θ̇**2*sin(2*α) + 4*Lp*g*mp*sin(α))\n",
    "\n",
    "simplify((\n",
    "    - (1/2)*(4*Jr)*(-8*Dp*α̇)\n",
    "    - (1/2)*(4*Jr)*(Lp**2*mp*θ̇**2*sin(2*α))\n",
    "    - (1/2)*(4*Jr)*(4*Lp*g*mp*sin(α))\n",
    "    - (1/2)*(Lp**2*mp*sin(α)**2)*(-8*Dp*α̇)\n",
    "    - (1/2)*(Lp**2*mp*sin(α)**2)*(Lp**2*mp*θ̇**2*sin(2*α))\n",
    "    - (1/2)*(Lp**2*mp*sin(α)**2)*(4*Lp*g*mp*sin(α))\n",
    "    - (1/2)*(4*Lr**2*mp)*(-8*Dp*α̇)\n",
    "    - (1/2)*(4*Lr**2*mp)*(Lp**2*mp*θ̇**2*sin(2*α))\n",
    "    - (1/2)*(4*Lr**2*mp)*(4*Lp*g*mp*sin(α))\n",
    "        ) - (\n",
    "#         a*θ̇*cos(α)\n",
    "#         b*α̇*θ̇*sin(2*α)*cos(α)\n",
    "#         c*α̇**2*sin(α)*cos(α)\n",
    "#         u*τ*cos(α)\n",
    "        (d+f) * (g*α̇ + h*θ̇**2*sin(α)**2 + i*sin(α)) +\n",
    "        e * (sin(α)**2*g*α̇ + h*θ̇**2*sin(α)**2 + i*sin(α)**3)\n",
    "    )\n",
    ")"
   ]
  },
  {
   "cell_type": "code",
   "execution_count": null,
   "metadata": {},
   "outputs": [],
   "source": [
    "\n"
   ]
  }
 ],
 "metadata": {
  "kernelspec": {
   "display_name": "Math+",
   "language": "python",
   "name": "math"
  },
  "language_info": {
   "codemirror_mode": {
    "name": "ipython",
    "version": 3
   },
   "file_extension": ".py",
   "mimetype": "text/x-python",
   "name": "python",
   "nbconvert_exporter": "python",
   "pygments_lexer": "ipython3",
   "version": "3.6.7"
  }
 },
 "nbformat": 4,
 "nbformat_minor": 4
}
