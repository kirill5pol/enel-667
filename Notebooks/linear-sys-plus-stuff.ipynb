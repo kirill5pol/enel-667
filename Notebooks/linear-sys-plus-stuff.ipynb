{
 "cells": [
  {
   "cell_type": "code",
   "execution_count": 2,
   "metadata": {},
   "outputs": [],
   "source": [
    "import autograd.numpy as np\n",
    "from autograd import grad, jacobian\n",
    "import scipy.linalg as sp_linalg"
   ]
  },
  {
   "cell_type": "code",
   "execution_count": 3,
   "metadata": {},
   "outputs": [],
   "source": [
    "# Define constants\n",
    "\n",
    "# Motor\n",
    "Rm = 8.4  # Resistance\n",
    "kt = 0.042  # Current-torque (N-m/A)\n",
    "km = 0.042  # Back-emf constant (V-s/rad)\n",
    "\n",
    "# Rotary Arm\n",
    "mr = 0.095  # Mass (kg)\n",
    "Lr = 0.085  # Total length (m)\n",
    "Jr = mr * Lr ** 2 / 12  # Moment of inertia about pivot (kg-m^2)\n",
    "Br = Dr = 0.0015  # Equivalent viscous damping coefficient (N-m-s/rad)\n",
    "\n",
    "# Pendulum Link\n",
    "mp = 0.024  # Mass (kg)\n",
    "Lp = 0.129  # Total length (m)\n",
    "Jp = mp * Lp ** 2 / 12  # Moment of inertia about pivot (kg-m^2)\n",
    "Dp = Bp = 0.0005  # Equivalent viscous damping coefficient (N-m-s/rad)\n",
    "\n",
    "g = 9.81  # Gravity constant"
   ]
  },
  {
   "cell_type": "code",
   "execution_count": 4,
   "metadata": {},
   "outputs": [],
   "source": [
    "def forward_model(state, action, dt=1/250):\n",
    "    theta = state[0]\n",
    "    alpha = state[1]\n",
    "    theta_dot = state[2]\n",
    "    alpha_dot = state[3]\n",
    "    Vm = action\n",
    "\n",
    "    tau = (km * (Vm - km * theta_dot)) / Rm  # torque\n",
    "\n",
    "    theta_dot_dot = (-Lp*Lr*mp*(-8.0*Dp*alpha_dot + Lp**2*mp*theta_dot**2*np.sin(2.0*alpha) + 4.0*Lp*g*mp*np.sin(alpha))*np.cos(alpha) + (4.0*Jp + Lp**2*mp)*(4.0*Dr*theta_dot + Lp**2*mp*alpha_dot*theta_dot*np.sin(2.0*alpha) + 2.0*Lp*Lr*mp*alpha_dot**2*np.sin(alpha) - 4.0*tau))/(4.0*Lp**2*Lr**2*mp**2*np.cos(alpha)**2 - (4.0*Jp + Lp**2*mp)*(4.0*Jr + Lp**2*mp*np.sin(alpha)**2 + 4.0*Lr**2*mp))\n",
    "    alpha_dot_dot = (2.0*Lp*Lr*mp*(4.0*Dr*theta_dot + Lp**2*mp*alpha_dot*theta_dot*np.sin(2.0*alpha) + 2.0*Lp*Lr*mp*alpha_dot**2*np.sin(alpha) - 4.0*tau)*np.cos(alpha) - 0.5*(4.0*Jr + Lp**2*mp*np.sin(alpha)**2 + 4.0*Lr**2*mp)*(-8.0*Dp*alpha_dot + Lp**2*mp*theta_dot**2*np.sin(2.0*alpha) + 4.0*Lp*g*mp*np.sin(alpha)))/(4.0*Lp**2*Lr**2*mp**2*np.cos(alpha)**2 - (4.0*Jp + Lp**2*mp)*(4.0*Jr + Lp**2*mp*np.sin(alpha)**2 + 4.0*Lr**2*mp))\n",
    "\n",
    "    # Works around a single operating point\n",
    "    theta += theta_dot * dt\n",
    "    alpha += alpha_dot * dt\n",
    "    theta_dot += theta_dot_dot * dt\n",
    "    alpha_dot += alpha_dot_dot * dt\n",
    "\n",
    "    theta %= 2 * np.pi\n",
    "    alpha %= 2 * np.pi\n",
    "\n",
    "    # For continuous version of LQR\n",
    "    state = np.array([theta_dot, alpha_dot, theta_dot_dot, alpha_dot_dot])\n",
    "\n",
    "    # For discrete version of LQR\n",
    "#     state = np.array([theta, alpha, theta_dot, alpha_dot])\n",
    "    return state\n"
   ]
  },
  {
   "cell_type": "code",
   "execution_count": 5,
   "metadata": {},
   "outputs": [],
   "source": [
    "def computeAB(forward_dynamics_model, current_state, current_control):\n",
    "    # Linearizing Dynamics\n",
    "    a_mat = jacobian(forward_dynamics_model, 0)\n",
    "    b_mat = jacobian(forward_dynamics_model, 1)\n",
    "    A = a_mat(current_state, current_control)\n",
    "    B = b_mat(current_state, current_control)\n",
    "\n",
    "    # Correct continuous time linearization from Quanser Workbook -\n",
    "    # A = np.array(\n",
    "    #     [\n",
    "    #         [0,0,1.0000,0],\n",
    "    #         [0,0,0 ,1.0000],\n",
    "    #         [0,149.2751,-0.0104,0],\n",
    "    #         [0,261.6091,-0.0103,0]\n",
    "    #     ])\n",
    "    # B = np.array([ 0,0,49.7275,49.1493])\n",
    "\n",
    "    return A, B"
   ]
  },
  {
   "cell_type": "code",
   "execution_count": 6,
   "metadata": {},
   "outputs": [],
   "source": [
    "def LQR_control(A, B, ):\n",
    "    # Cost matrices for LQR\n",
    "    Q = np.diag(np.array([1, 1, 1, 1]))  # state_dimension = 4\n",
    "    R = np.eye(1)  # control_dimension = 1\n",
    "\n",
    "    # Use if discrete forward dynamics is used\n",
    "#     X = sp_linalg.solve_discrete_are(A, B, Q, R)\n",
    "#     K = np.dot(np.linalg.pinv(R + np.dot(B.T, np.dot(X, B))), np.dot(B.T, np.dot(X, A)))\n",
    "\n",
    "    # Use for continuous version of LQR\n",
    "    X = sp_linalg.solve_continuous_are(A, B, Q, R)\n",
    "    K = np.dot(np.linalg.pinv(R), np.dot(B.T, X))\n",
    "    return np.squeeze(K, 0)"
   ]
  },
  {
   "cell_type": "code",
   "execution_count": 7,
   "metadata": {},
   "outputs": [],
   "source": [
    "# Where you want to linearize the system around\n",
    "linearization_state = np.zeros((4,))\n",
    "linearization_action = np.array([0]) # Just a vector with 0\n"
   ]
  },
  {
   "cell_type": "code",
   "execution_count": 8,
   "metadata": {},
   "outputs": [
    {
     "name": "stdout",
     "output_type": "stream",
     "text": [
      "A = \n",
      "[[[ 0.00000000e+00  5.97100387e-01  9.31972733e-01 -1.96597230e-02]]\n",
      "\n",
      " [[ 0.00000000e+00  1.04643643e+00 -6.72362525e-02  9.65545743e-01]]\n",
      "\n",
      " [[ 0.00000000e+00  1.49275097e+02 -1.70068168e+01 -4.91493074e+00]]\n",
      "\n",
      " [[ 0.00000000e+00  2.61609107e+02 -1.68090631e+01 -8.61356429e+00]]]\n",
      "B = [[[ 0.19891014]]\n",
      "\n",
      " [[ 0.19659723]]\n",
      "\n",
      " [[49.72753455]]\n",
      "\n",
      " [[49.1493074 ]]]\n",
      "\n",
      "Compare to:\n",
      "A = \n",
      "[[0, 0,        1,       0],\n",
      " [0, 0,        0,       1],\n",
      " [0, 149.2751, -0.0104, 0],\n",
      " [0, 261.6091, -0.0103, 0]]\n",
      "B = [ 0,0,49.7275,49.1493]\n",
      "\n"
     ]
    }
   ],
   "source": [
    "A, B = computeAB(forward_model, linearization_state, linearization_action)\n",
    "print(f\"A = \\n{A}\\nB = {B}\")\n",
    "\n",
    "print(\"\"\"\n",
    "Compare to:\n",
    "A = \n",
    "[[0, 0,        1,       0],\n",
    " [0, 0,        0,       1],\n",
    " [0, 149.2751, -0.0104, 0],\n",
    " [0, 261.6091, -0.0103, 0]]\n",
    "B = [ 0,0,49.7275,49.1493]\n",
    "\"\"\")"
   ]
  },
  {
   "cell_type": "code",
   "execution_count": 9,
   "metadata": {},
   "outputs": [],
   "source": [
    "A = A.reshape(4,4)\n",
    "B = B.reshape(4,1)\n"
   ]
  },
  {
   "cell_type": "code",
   "execution_count": 75,
   "metadata": {},
   "outputs": [
    {
     "name": "stdout",
     "output_type": "stream",
     "text": [
      "k = [-1.         40.10113264 -1.64935946  2.92022676]\n",
      "Compared to Quanser's:\n",
      "k = [-2.0, 35.0, -1.5, 3.0]\n"
     ]
    }
   ],
   "source": [
    "k = LQR_control(A, B)\n",
    "\n",
    "print(f\"k = {k}\")\n",
    "print(\"Compared to Quanser's:\\nk = [-2.0, 35.0, -1.5, 3.0]\")"
   ]
  },
  {
   "cell_type": "code",
   "execution_count": 80,
   "metadata": {},
   "outputs": [],
   "source": [
    "# k = [-0.86938544 36.92064594 -1.49277614  2.74003595]\n",
    "# Compared to Quanser's:\n",
    "# k = [-2.0, 35.0, -1.5, 3.0]"
   ]
  },
  {
   "cell_type": "code",
   "execution_count": null,
   "metadata": {},
   "outputs": [],
   "source": []
  },
  {
   "cell_type": "code",
   "execution_count": null,
   "metadata": {},
   "outputs": [],
   "source": []
  },
  {
   "cell_type": "code",
   "execution_count": 84,
   "metadata": {},
   "outputs": [],
   "source": [
    "# Quanser's equations\n",
    "Jt = Jr*Jp + mp*(Lp/2)**2*Jr + Jp*mp*Lr**2;\n",
    "A = np.array([\n",
    "        [0, 0, 1, 0],\n",
    "        [0, 0, 0, 1],\n",
    "        [0, mp**2*(Lp/2)**2*Lr*g/Jt, -Dr*(Jp+mp*(Lp/2)**2)/Jt, -mp*(Lp/2)*Lr*Dp/Jt],\n",
    "        [0, mp*g*(Lp/2)*(Jr+mp*Lr**2)/Jt, -mp*(Lp/2)*Lr*Dr/Jt, -Dp*(Jr+mp*Lr**2)/Jt]\n",
    "])\n",
    "\n",
    "B = np.array([0, 0, (Jp+mp*(Lp/2)**2)/Jt, mp*(Lp/2)*Lr/Jt])\n",
    "# % Add actuator dynamics\n",
    "B = kt * B / Rm;\n",
    "A[2,2] = A[2,2] - kt*kt/Rm*B[2]\n",
    "A[3,2] = A[3,2] - kt*kt/Rm*B[3]"
   ]
  },
  {
   "cell_type": "code",
   "execution_count": 85,
   "metadata": {},
   "outputs": [
    {
     "data": {
      "text/plain": [
       "(array([[  0.        ,   0.        ,   1.        ,   0.        ],\n",
       "        [  0.        ,   0.        ,   0.        ,   1.        ],\n",
       "        [  0.        , 149.27509687, -14.92870315,  -4.91493074],\n",
       "        [  0.        , 261.60910737, -14.75511358,  -8.61356429]]),\n",
       " array([ 0.        ,  0.        , 49.72753455, 49.1493074 ]))"
      ]
     },
     "execution_count": 85,
     "metadata": {},
     "output_type": "execute_result"
    }
   ],
   "source": [
    "A, B"
   ]
  },
  {
   "cell_type": "code",
   "execution_count": 86,
   "metadata": {},
   "outputs": [
    {
     "data": {
      "text/plain": [
       "array([-1.        , 40.50327844, -1.60396556,  3.04438949])"
      ]
     },
     "execution_count": 86,
     "metadata": {},
     "output_type": "execute_result"
    }
   ],
   "source": [
    "k = LQR_control(A, B.reshape(4,1))\n",
    "k"
   ]
  },
  {
   "cell_type": "code",
   "execution_count": null,
   "metadata": {},
   "outputs": [],
   "source": []
  },
  {
   "cell_type": "code",
   "execution_count": null,
   "metadata": {},
   "outputs": [],
   "source": []
  },
  {
   "cell_type": "code",
   "execution_count": 13,
   "metadata": {},
   "outputs": [],
   "source": [
    "A = np.array([\n",
    "    [0., 0., 1., 0.], \n",
    "    [0., 0., 0., 1.], \n",
    "    [0., 150., -15., -5.], \n",
    "    [0., 260., -15., -9.]\n",
    "])\n",
    "B = np.array([0., 0., 50., 50.])"
   ]
  },
  {
   "cell_type": "code",
   "execution_count": 14,
   "metadata": {},
   "outputs": [
    {
     "data": {
      "text/plain": [
       "array([-1.        , 39.87619151, -1.61166925,  3.00985469])"
      ]
     },
     "execution_count": 14,
     "metadata": {},
     "output_type": "execute_result"
    }
   ],
   "source": [
    "k = LQR_control(A, B.reshape(4,1))\n",
    "k"
   ]
  },
  {
   "cell_type": "code",
   "execution_count": null,
   "metadata": {},
   "outputs": [],
   "source": []
  }
 ],
 "metadata": {
  "kernelspec": {
   "display_name": "Math+",
   "language": "python",
   "name": "math"
  },
  "language_info": {
   "codemirror_mode": {
    "name": "ipython",
    "version": 3
   },
   "file_extension": ".py",
   "mimetype": "text/x-python",
   "name": "python",
   "nbconvert_exporter": "python",
   "pygments_lexer": "ipython3",
   "version": "3.7.0"
  }
 },
 "nbformat": 4,
 "nbformat_minor": 4
}
