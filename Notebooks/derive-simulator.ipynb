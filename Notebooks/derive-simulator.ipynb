{
 "cells": [
  {
   "cell_type": "code",
   "execution_count": 1,
   "metadata": {},
   "outputs": [],
   "source": [
    "# This package is for doing symbolic math in python\n",
    "from sympy import *"
   ]
  },
  {
   "cell_type": "markdown",
   "metadata": {},
   "source": [
    "### Create symbolic variables\n",
    "Using unicode symbols for math is quite nice"
   ]
  },
  {
   "cell_type": "code",
   "execution_count": 2,
   "metadata": {},
   "outputs": [],
   "source": [
    "θ, α, θ̇, α̇, θ̈, α̈ = symbols('θ α θ̇ α̇  θ̈ α̈')\n",
    "rm, kt, km, mr, Lr, Jr, Dr, mp, Lp, Jp, Dp, g, tau = symbols('rm kt km mr Lr Jr Dr mp Lp Jp Dp g τ')"
   ]
  },
  {
   "cell_type": "code",
   "execution_count": 3,
   "metadata": {},
   "outputs": [],
   "source": [
    "init_printing(use_unicode=True) # Allows for latex-like equations"
   ]
  },
  {
   "cell_type": "code",
   "execution_count": 4,
   "metadata": {},
   "outputs": [
    {
     "name": "stdout",
     "output_type": "stream",
     "text": [
      "θ=θ, α=α, θ̇=θ̇, α̇=α̇, θ̈=θ̈, α̈=α̈\n",
      "rm=rm, kt=kt, km=km, mr=mr, Lr=Lr, Jr=Jr, Dr=Dr, mp=mp, Lp=Lp, Jp=Jp, Dp=Dp, g=g, tau=τ\n"
     ]
    }
   ],
   "source": [
    "# Make sure symbols match what they are supposed to match\n",
    "print('θ={}, α={}, θ̇={}, α̇={}, θ̈={}, α̈={}'.format(θ, α, θ̇, α̇, θ̈, α̈))\n",
    "print('rm={}, kt={}, km={}, mr={}, Lr={}, Jr={}, Dr={}, mp={}, Lp={}, Jp={}, Dp={}, g={}, tau={}'.format(rm, kt, km, mr, Lr, Jr, Dr, mp, Lp, Jp, Dp, g, tau))"
   ]
  },
  {
   "cell_type": "markdown",
   "metadata": {},
   "source": [
    "### Create equations matching the workbook"
   ]
  },
  {
   "cell_type": "markdown",
   "metadata": {},
   "source": [
    "##### Equation 2.2"
   ]
  },
  {
   "cell_type": "code",
   "execution_count": 5,
   "metadata": {},
   "outputs": [],
   "source": [
    "# left hand side of equation (2.2)\n",
    "coeff_θ̈  = (mp * Lr**2) + (1/4)*(mp * Lp**2) - (1/4)*(mp * Lp**2 * (cos(α)**2)) + Jr\n",
    "coeff_α̈  = -(1/2)*(mp * Lp * Lr * cos(α))\n",
    "coeff_θ̇α̇ = (1/2)*(mp * Lp**2 * sin(α) * cos(α))\n",
    "coeff_α̇α̇ = (1/2)*(mp * Lp * Lr * sin(α))  # α̇α̇ == α̇^2\n",
    "lhs_22 = (coeff_θ̈ * θ̈) + (coeff_α̈ * α̈) + (coeff_θ̇α̇ * θ̇ * α̇) + (coeff_α̇α̇ * α̇ * α̇)\n",
    "\n",
    "# right hand side\n",
    "rhs_22 = tau - Dr * θ̇\n",
    "\n",
    "# equation fully written out\n",
    "equation_22 = Eq(lhs_22, rhs_22)"
   ]
  },
  {
   "cell_type": "code",
   "execution_count": 6,
   "metadata": {},
   "outputs": [
    {
     "data": {
      "image/png": "[encoded data removed]",
      "text/latex": [
       "$$0.5 Lp^{2} mp α̇ θ̇ \\sin{\\left (α \\right )} \\cos{\\left (α \\right )} + 0.5 Lp Lr mp α̇^{2} \\sin{\\left (α \\right )} - 0.5 Lp Lr mp α̈ \\cos{\\left (α \\right )} + θ̈ \\left(Jr - 0.25 Lp^{2} mp \\cos^{2}{\\left (α \\right )} + 0.25 Lp^{2} mp + Lr^{2} mp\\right) = - Dr θ̇ + τ$$"
      ],
      "text/plain": [
       "      2                                         2                             \n",
       "0.5⋅Lp ⋅mp⋅α̇⋅θ̇⋅sin(α)⋅cos(α) + 0.5⋅Lp⋅Lr⋅mp⋅α̇ ⋅sin(α) - 0.5⋅Lp⋅Lr⋅mp⋅α̈⋅cos\n",
       "\n",
       "         ⎛            2       2             2        2   ⎞             \n",
       "(α) + θ̈⋅⎝Jr - 0.25⋅Lp ⋅mp⋅cos (α) + 0.25⋅Lp ⋅mp + Lr ⋅mp⎠ = -Dr⋅θ̇ + τ"
      ]
     },
     "execution_count": 6,
     "metadata": {},
     "output_type": "execute_result"
    }
   ],
   "source": [
    "equation_22"
   ]
  },
  {
   "cell_type": "markdown",
   "metadata": {},
   "source": [
    "##### Equation 2.3"
   ]
  },
  {
   "cell_type": "code",
   "execution_count": 7,
   "metadata": {},
   "outputs": [],
   "source": [
    "# left hand side of equation (2.3)\n",
    "coeff_θ̈  = (-1/2)*(mp * Lp * Lr * cos(α))\n",
    "coeff_α̈  = Jp + (1/4)*(mp * Lp**2)\n",
    "coeff_θ̇θ̇ = (-1/4)*(mp * Lp**2 * cos(α) * sin(α))\n",
    "lhs_23 = (coeff_θ̈ * θ̈) + (coeff_α̈ * α̈) + (coeff_θ̇θ̇ * θ̇ * θ̇) + ((-1/2)*(mp * Lp * g * sin(α)))\n",
    "\n",
    "# right hand side\n",
    "rhs_23 = - Dp * α̇\n",
    "\n",
    "# equation fully written out\n",
    "equation_23 = Eq(lhs_23, rhs_23)"
   ]
  },
  {
   "cell_type": "code",
   "execution_count": 8,
   "metadata": {},
   "outputs": [
    {
     "data": {
      "image/png": "[encoded data removed]",
      "text/latex": [
       "$$- 0.25 Lp^{2} mp θ̇^{2} \\sin{\\left (α \\right )} \\cos{\\left (α \\right )} - 0.5 Lp Lr mp θ̈ \\cos{\\left (α \\right )} - 0.5 Lp g mp \\sin{\\left (α \\right )} + α̈ \\left(Jp + 0.25 Lp^{2} mp\\right) = - Dp α̇$$"
      ],
      "text/plain": [
       "         2      2                                                             \n",
       "- 0.25⋅Lp ⋅mp⋅θ̇ ⋅sin(α)⋅cos(α) - 0.5⋅Lp⋅Lr⋅mp⋅θ̈⋅cos(α) - 0.5⋅Lp⋅g⋅mp⋅sin(α) \n",
       "\n",
       "     ⎛            2   ⎞         \n",
       "+ α̈⋅⎝Jp + 0.25⋅Lp ⋅mp⎠ = -Dp⋅α̇"
      ]
     },
     "execution_count": 8,
     "metadata": {},
     "output_type": "execute_result"
    }
   ],
   "source": [
    "equation_23"
   ]
  },
  {
   "cell_type": "markdown",
   "metadata": {},
   "source": [
    "### Solve the system of equations for α_acceleration and θ_acceleration"
   ]
  },
  {
   "cell_type": "code",
   "execution_count": 9,
   "metadata": {},
   "outputs": [],
   "source": [
    "solved_eqs = solve([equation_22, equation_23], [θ̈, α̈])"
   ]
  },
  {
   "cell_type": "code",
   "execution_count": 10,
   "metadata": {},
   "outputs": [
    {
     "data": {
      "image/png": "[encoded data removed]",
      "text/latex": [
       "$$\\left \\{ α̈ : \\frac{2.0 Lp Lr mp \\left(4.0 Dr θ̇ + Lp^{2} mp α̇ θ̇ \\sin{\\left (2.0 α \\right )} + 2.0 Lp Lr mp α̇^{2} \\sin{\\left (α \\right )} - 4.0 τ\\right) \\cos{\\left (α \\right )} - 0.5 \\left(4.0 Jr + Lp^{2} mp \\sin^{2}{\\left (α \\right )} + 4.0 Lr^{2} mp\\right) \\left(- 8.0 Dp α̇ + Lp^{2} mp θ̇^{2} \\sin{\\left (2.0 α \\right )} + 4.0 Lp g mp \\sin{\\left (α \\right )}\\right)}{4.0 Lp^{2} Lr^{2} mp^{2} \\cos^{2}{\\left (α \\right )} - \\left(4.0 Jp + Lp^{2} mp\\right) \\left(4.0 Jr + Lp^{2} mp \\sin^{2}{\\left (α \\right )} + 4.0 Lr^{2} mp\\right)}, \\quad θ̈ : \\frac{- Lp Lr mp \\left(- 8.0 Dp α̇ + Lp^{2} mp θ̇^{2} \\sin{\\left (2.0 α \\right )} + 4.0 Lp g mp \\sin{\\left (α \\right )}\\right) \\cos{\\left (α \\right )} + \\left(4.0 Jp + Lp^{2} mp\\right) \\left(4.0 Dr θ̇ + Lp^{2} mp α̇ θ̇ \\sin{\\left (2.0 α \\right )} + 2.0 Lp Lr mp α̇^{2} \\sin{\\left (α \\right )} - 4.0 τ\\right)}{4.0 Lp^{2} Lr^{2} mp^{2} \\cos^{2}{\\left (α \\right )} - \\left(4.0 Jp + Lp^{2} mp\\right) \\left(4.0 Jr + Lp^{2} mp \\sin^{2}{\\left (α \\right )} + 4.0 Lr^{2} mp\\right)}\\right \\}$$"
      ],
      "text/plain": [
       "⎧                 ⎛              2                                      2     \n",
       "⎪    2.0⋅Lp⋅Lr⋅mp⋅⎝4.0⋅Dr⋅θ̇ + Lp ⋅mp⋅α̇⋅θ̇⋅sin(2.0⋅α) + 2.0⋅Lp⋅Lr⋅mp⋅α̇ ⋅sin(\n",
       "⎨α̈: ─────────────────────────────────────────────────────────────────────────\n",
       "⎪                                                                  2   2   2  \n",
       "⎩                                                            4.0⋅Lp ⋅Lr ⋅mp ⋅c\n",
       "\n",
       "          ⎞              ⎛           2       2            2   ⎞ ⎛             \n",
       "α) - 4.0⋅τ⎠⋅cos(α) - 0.5⋅⎝4.0⋅Jr + Lp ⋅mp⋅sin (α) + 4.0⋅Lr ⋅mp⎠⋅⎝-8.0⋅Dp⋅α̇ + \n",
       "──────────────────────────────────────────────────────────────────────────────\n",
       "  2      ⎛           2   ⎞ ⎛           2       2            2   ⎞             \n",
       "os (α) - ⎝4.0⋅Jp + Lp ⋅mp⎠⋅⎝4.0⋅Jr + Lp ⋅mp⋅sin (α) + 4.0⋅Lr ⋅mp⎠             \n",
       "\n",
       "  2      2                                ⎞                 ⎛               2 \n",
       "Lp ⋅mp⋅θ̇ ⋅sin(2.0⋅α) + 4.0⋅Lp⋅g⋅mp⋅sin(α)⎠      - Lp⋅Lr⋅mp⋅⎝-8.0⋅Dp⋅α̇ + Lp ⋅\n",
       "───────────────────────────────────────────, θ̈: ─────────────────────────────\n",
       "                                                                              \n",
       "                                                                              \n",
       "\n",
       "     2                                ⎞          ⎛           2   ⎞ ⎛          \n",
       "mp⋅θ̇ ⋅sin(2.0⋅α) + 4.0⋅Lp⋅g⋅mp⋅sin(α)⎠⋅cos(α) + ⎝4.0⋅Jp + Lp ⋅mp⎠⋅⎝4.0⋅Dr⋅θ̇ \n",
       "──────────────────────────────────────────────────────────────────────────────\n",
       "                    2   2   2    2      ⎛           2   ⎞ ⎛           2       \n",
       "              4.0⋅Lp ⋅Lr ⋅mp ⋅cos (α) - ⎝4.0⋅Jp + Lp ⋅mp⎠⋅⎝4.0⋅Jr + Lp ⋅mp⋅sin\n",
       "\n",
       "    2                                      2               ⎞⎫\n",
       "+ Lp ⋅mp⋅α̇⋅θ̇⋅sin(2.0⋅α) + 2.0⋅Lp⋅Lr⋅mp⋅α̇ ⋅sin(α) - 4.0⋅τ⎠⎪\n",
       "────────────────────────────────────────────────────────────⎬\n",
       "2            2   ⎞                                          ⎪\n",
       " (α) + 4.0⋅Lr ⋅mp⎠                                          ⎭"
      ]
     },
     "execution_count": 10,
     "metadata": {},
     "output_type": "execute_result"
    }
   ],
   "source": [
    "solved_eqs"
   ]
  },
  {
   "cell_type": "code",
   "execution_count": 11,
   "metadata": {},
   "outputs": [
    {
     "name": "stdout",
     "output_type": "stream",
     "text": [
      "{θ̈: (-Lp*Lr*mp*(-8.0*Dp*α̇ + Lp**2*mp*θ̇**2*sin(2.0*α) + 4.0*Lp*g*mp*sin(α))*cos(α) + (4.0*Jp + Lp**2*mp)*(4.0*Dr*θ̇ + Lp**2*mp*α̇*θ̇*sin(2.0*α) + 2.0*Lp*Lr*mp*α̇**2*sin(α) - 4.0*τ))/(4.0*Lp**2*Lr**2*mp**2*cos(α)**2 - (4.0*Jp + Lp**2*mp)*(4.0*Jr + Lp**2*mp*sin(α)**2 + 4.0*Lr**2*mp)), α̈: (2.0*Lp*Lr*mp*(4.0*Dr*θ̇ + Lp**2*mp*α̇*θ̇*sin(2.0*α) + 2.0*Lp*Lr*mp*α̇**2*sin(α) - 4.0*τ)*cos(α) - 0.5*(4.0*Jr + Lp**2*mp*sin(α)**2 + 4.0*Lr**2*mp)*(-8.0*Dp*α̇ + Lp**2*mp*θ̇**2*sin(2.0*α) + 4.0*Lp*g*mp*sin(α)))/(4.0*Lp**2*Lr**2*mp**2*cos(α)**2 - (4.0*Jp + Lp**2*mp)*(4.0*Jr + Lp**2*mp*sin(α)**2 + 4.0*Lr**2*mp))}\n"
     ]
    }
   ],
   "source": [
    "print(solved_eqs)"
   ]
  },
  {
   "cell_type": "code",
   "execution_count": 12,
   "metadata": {},
   "outputs": [
    {
     "name": "stdout",
     "output_type": "stream",
     "text": [
      "theta_dot_dot = (-Lp*Lr*mp*(-8.0*Dp*alpha_dot + Lp**2*mp*theta_dot**2*np.sin(2.0*alpha) + 4.0*Lp*g*mp*np.sin(alpha))*np.cos(alpha) + (4.0*Jp + Lp**2*mp)*(4.0*Dr*theta_dot + Lp**2*mp*alpha_dot*theta_dot*np.sin(2.0*alpha) + 2.0*Lp*Lr*mp*alpha_dot**2*np.sin(alpha) - 4.0*tau))/(4.0*Lp**2*Lr**2*mp**2*np.cos(alpha)**2 - (4.0*Jp + Lp**2*mp)*(4.0*Jr + Lp**2*mp*np.sin(alpha)**2 + 4.0*Lr**2*mp))\n",
      "alpha_dot_dot = (2.0*Lp*Lr*mp*(4.0*Dr*theta_dot + Lp**2*mp*alpha_dot*theta_dot*np.sin(2.0*alpha) + 2.0*Lp*Lr*mp*alpha_dot**2*np.sin(alpha) - 4.0*tau)*np.cos(alpha) - 0.5*(4.0*Jr + Lp**2*mp*np.sin(alpha)**2 + 4.0*Lr**2*mp)*(-8.0*Dp*alpha_dot + Lp**2*mp*theta_dot**2*np.sin(2.0*alpha) + 4.0*Lp*g*mp*np.sin(alpha)))/(4.0*Lp**2*Lr**2*mp**2*np.cos(alpha)**2 - (4.0*Jp + Lp**2*mp)*(4.0*Jr + Lp**2*mp*np.sin(alpha)**2 + 4.0*Lr**2*mp))\n"
     ]
    }
   ],
   "source": [
    "# Make everything easy to copy into python code\n",
    "\n",
    "# print_theta_dot_dot = solved_eqs['θ′′'] # This doesn't work for some reason...\n",
    "print_theta_dot_dot = str(solved_eqs[list(solved_eqs.keys())[0]]) # But this works\n",
    "print_theta_dot_dot = print_theta_dot_dot.replace('α̈', 'alpha_dot_dot')\n",
    "print_theta_dot_dot = print_theta_dot_dot.replace('θ̈', 'theta_dot_dot')\n",
    "print_theta_dot_dot = print_theta_dot_dot.replace('α̇', 'alpha_dot')\n",
    "print_theta_dot_dot = print_theta_dot_dot.replace('θ̇', 'theta_dot')\n",
    "print_theta_dot_dot = print_theta_dot_dot.replace('α', 'alpha')\n",
    "print_theta_dot_dot = print_theta_dot_dot.replace('θ', 'theta')\n",
    "print_theta_dot_dot = print_theta_dot_dot.replace('τ', 'tau')\n",
    "print_theta_dot_dot = print_theta_dot_dot.replace('sin', 'np.sin')\n",
    "print_theta_dot_dot = print_theta_dot_dot.replace('cos', 'np.cos')\n",
    "\n",
    "# print_alpha_dot_dot = solved_eqs['α′′'] # This doesn't work for some reason...\n",
    "print_alpha_dot_dot = str(solved_eqs[list(solved_eqs.keys())[1]]) # But this works\n",
    "print_alpha_dot_dot = print_alpha_dot_dot.replace('α̈', 'alpha_dot_dot')\n",
    "print_alpha_dot_dot = print_alpha_dot_dot.replace('θ̈', 'theta_dot_dot')\n",
    "print_alpha_dot_dot = print_alpha_dot_dot.replace('α̇', 'alpha_dot')\n",
    "print_alpha_dot_dot = print_alpha_dot_dot.replace('θ̇', 'theta_dot')\n",
    "print_alpha_dot_dot = print_alpha_dot_dot.replace('α', 'alpha')\n",
    "print_alpha_dot_dot = print_alpha_dot_dot.replace('θ', 'theta')\n",
    "print_alpha_dot_dot = print_alpha_dot_dot.replace('τ', 'tau')\n",
    "print_alpha_dot_dot = print_alpha_dot_dot.replace('sin', 'np.sin')\n",
    "print_alpha_dot_dot = print_alpha_dot_dot.replace('cos', 'np.cos')\n",
    "\n",
    "print('theta_dot_dot =', print_theta_dot_dot)\n",
    "print('alpha_dot_dot =', print_alpha_dot_dot)"
   ]
  },
  {
   "cell_type": "code",
   "execution_count": null,
   "metadata": {},
   "outputs": [],
   "source": []
  }
 ],
 "metadata": {
  "kernelspec": {
   "display_name": "Math+",
   "language": "python",
   "name": "math"
  },
  "language_info": {
   "codemirror_mode": {
    "name": "ipython",
    "version": 3
   },
   "file_extension": ".py",
   "mimetype": "text/x-python",
   "name": "python",
   "nbconvert_exporter": "python",
   "pygments_lexer": "ipython3",
   "version": "3.7.0"
  }
 },
 "nbformat": 4,
 "nbformat_minor": 4
}
