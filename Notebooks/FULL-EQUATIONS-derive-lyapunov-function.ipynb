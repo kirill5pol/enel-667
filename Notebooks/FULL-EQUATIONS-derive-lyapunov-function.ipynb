{
 "cells": [
  {
   "cell_type": "code",
   "execution_count": 1,
   "metadata": {},
   "outputs": [],
   "source": [
    "# This package is for doing symbolic math in python\n",
    "from sympy import *"
   ]
  },
  {
   "cell_type": "markdown",
   "metadata": {},
   "source": [
    "### Create symbolic variables\n",
    "Using unicode symbols for math is quite nice"
   ]
  },
  {
   "cell_type": "code",
   "execution_count": 39,
   "metadata": {},
   "outputs": [],
   "source": [
    "θ, α, θ̇, α̇, θ̈, α̈ = symbols('θ α θ̇ α̇  θ̈ α̈')\n",
    "rm, kt, km, mr, Lr, Jr, Dr, mp, Lp, Jp, Dp, g, τ = symbols('rm kt km mr Lr Jr Dr mp Lp Jp Dp g τ')\n"
   ]
  },
  {
   "cell_type": "code",
   "execution_count": 40,
   "metadata": {},
   "outputs": [],
   "source": [
    "init_printing(use_unicode=True) # Allows for latex-like equations"
   ]
  },
  {
   "cell_type": "code",
   "execution_count": 41,
   "metadata": {},
   "outputs": [
    {
     "name": "stdout",
     "output_type": "stream",
     "text": [
      "θ=θ, α=α, θ̇=θ̇, α̇=α̇, θ̈=θ̈, α̈=α̈\n",
      "rm=rm, kt=kt, km=km, mr=mr, Lr=Lr, Jr=Jr, Dr=Dr, mp=mp, Lp=Lp, Jp=Jp, Dp=Dp, g=g, τ=τ\n"
     ]
    }
   ],
   "source": [
    "# Make sure symbols match what they are supposed to match\n",
    "print('θ={}, α={}, θ̇={}, α̇={}, θ̈={}, α̈={}'.format(θ, α, θ̇, α̇, θ̈, α̈))\n",
    "print('rm={}, kt={}, km={}, mr={}, Lr={}, Jr={}, Dr={}, mp={}, Lp={}, Jp={}, Dp={}, g={}, τ={}'.format(rm, kt, km, mr, Lr, Jr, Dr, mp, Lp, Jp, Dp, g, τ))\n"
   ]
  },
  {
   "cell_type": "code",
   "execution_count": 42,
   "metadata": {},
   "outputs": [],
   "source": [
    "# Copied from the derive-simulator notebook\n",
    "# θ̈ = (-Lp*Lr*mp*(-8*Dp*α̇ + Lp**2*mp*θ̇**2*sin(2*α) + 4*Lp*g*mp*sin(α))*cos(α) + (4*Jp + Lp**2*mp)*(4*Dr*θ̇ + Lp**2*mp*α̇*θ̇*sin(2*α) + 2*Lp*Lr*mp*α̇**2*sin(α) - 4*τ))/(4*Lp**2*Lr**2*mp**2*cos(α)**2 - (4*Jp + Lp**2*mp)*(4*Jr + Lp**2*mp*sin(α)**2 + 4*Lr**2*mp))\n",
    "# α̈ = (2*Lp*Lr*mp*(4*Dr*θ̇ + Lp**2*mp*α̇*θ̇*sin(2*α) + 2*Lp*Lr*mp*α̇**2*sin(α) - 4*τ)*cos(α) - 0.5*(4*Jr + Lp**2*mp*sin(α)**2 + 4*Lr**2*mp)*(-8*Dp*α̇ + Lp**2*mp*θ̇**2*sin(2*α) + 4*Lp*g*mp*sin(α)))/(4*Lp**2*Lr**2*mp**2*cos(α)**2 - (4*Jp + Lp**2*mp)*(4*Jr + Lp**2*mp*sin(α)**2 + 4*Lr**2*mp))\n",
    "α̈ = (2*Lp*Lr*mp*(4*Dr*θ̇ + Lp**2*mp*α̇*θ̇*sin(2*α) + 2*Lp*Lr*mp*α̇**2*sin(α) - 4*τ)*cos(α) - 0.5*(4*Jr + Lp**2*mp*sin(α)**2 + 4*Lr**2*mp)*(-8*Dp*α̇ + Lp**2*mp*θ̇**2*sin(2*α) + 4*Lp*g*mp*sin(α)))/(4*Lp**2*Lr**2*mp**2*cos(α)**2 - (4*Jp + Lp**2*mp)*(4*Jr + Lp**2*mp*sin(α)**2 + 4*Lr**2*mp))\n",
    "θ̈ = (-Lp*Lr*mp*(-8*Dp*α̇ + Lp**2*mp*θ̇**2*sin(2*α) + 4*Lp*g*mp*sin(α))*cos(α) + (4*Jp + Lp**2*mp)*(4*Dr*θ̇ + Lp**2*mp*α̇*θ̇*sin(2*α) + 2*Lp*Lr*mp*α̇**2*sin(α) - 4*τ))/(4*Lp**2*Lr**2*mp**2*cos(α)**2 - (4*Jp + Lp**2*mp)*(4*Jr + Lp**2*mp*sin(α)**2 + 4*Lr**2*mp))\n",
    "\n"
   ]
  },
  {
   "cell_type": "markdown",
   "metadata": {},
   "source": [
    "### Derive the energy of the system"
   ]
  },
  {
   "cell_type": "code",
   "execution_count": 43,
   "metadata": {},
   "outputs": [],
   "source": [
    "Ep = (1/2) * mp * g * Lp * (1 - cos(α))\n",
    "Ek = (1/2) * Jp * α̇**2\n"
   ]
  },
  {
   "cell_type": "code",
   "execution_count": null,
   "metadata": {},
   "outputs": [],
   "source": [
    "\n",
    "\n",
    "\n",
    "\n",
    "\n",
    "\n",
    "\n",
    "\n",
    "\n",
    "\n",
    "\n",
    "\n",
    "\n",
    "\n",
    "\n",
    "\n"
   ]
  },
  {
   "cell_type": "markdown",
   "metadata": {},
   "source": [
    "## From the derive simulator workbook\n",
    "\n",
    "We break each of these into their component parts (i.e. k1*θ̇, k2*θ̇*α̇, etc...). This doesn't include the angle because that would be fucking impossible...\n",
    "Once we get everything into component parts (need to do some simplification on paper), check to make sure they are correct.\n",
    "\n",
    "![](./pics/derived_eq_order.png)"
   ]
  },
  {
   "cell_type": "markdown",
   "metadata": {},
   "source": [
    "So here for $\\ddot \\alpha$ it would be:\n",
    "\n",
    "$$\\ddot\\alpha = \\frac{1}{z(\\alpha)} \\Big[\n",
    "    a \\dot\\theta cos(\\alpha)\n",
    "    + b\\dot\\theta \\dot\\alpha sin(2\\alpha) cos(\\alpha) \n",
    "    + c \\dot\\alpha^2 sin(\\alpha) cos(\\alpha)\n",
    "    + u \\tau cos(\\alpha)\n",
    "%     \n",
    "    + [g\\dot\\alpha + h \\dot\\theta^2 sin(2\\alpha) + i sin(\\alpha)](d+f)\n",
    "    + [sin^2(\\alpha) g \\dot\\alpha + h sin^2(\\alpha) \\dot\\theta^2 sin(2\\alpha)+ i sin^3(\\alpha)](e)\n",
    "\\Big]$$\n",
    "\n",
    "Where z is that overly complicated thing at the bottom"
   ]
  },
  {
   "cell_type": "code",
   "execution_count": 53,
   "metadata": {},
   "outputs": [],
   "source": [
    "z = (4*Lp**2*Lr**2*mp**2*cos(α)**2 - (4*Jp + Lp**2*mp)*(4*Jr + Lp**2*mp*sin(α)**2 + 4*Lr**2*mp))\n",
    "a = 2*Lp*Lr*mp*(4*Dr)\n",
    "b = 2*Lp*Lr*mp*(Lp**2*mp)\n",
    "c = 2*Lp*Lr*mp*(2*Lp*Lr*mp)\n",
    "u = 2*Lp*Lr*mp*(-4)\n",
    "d = - (1/2)*(4*Jr)\n",
    "e = - (1/2)*(Lp**2*mp)\n",
    "f = - (1/2)*(4*Lr**2*mp)\n",
    "g = (-8*Dp)\n",
    "h = (Lp**2*mp)\n",
    "i = (4*Lp*g*mp)\n"
   ]
  },
  {
   "cell_type": "code",
   "execution_count": 56,
   "metadata": {},
   "outputs": [
    {
     "data": {
      "image/png": "[encoded data removed]",
      "text/latex": [
       "$$0$$"
      ],
      "text/plain": [
       "0"
      ]
     },
     "execution_count": 56,
     "metadata": {},
     "output_type": "execute_result"
    }
   ],
   "source": [
    "# Should be equal to the original\n",
    "α̈_2 = (1/z) * (\n",
    "    a*θ̇*cos(α) + \n",
    "    b*α̇*θ̇*sin(2*α)*cos(α) + \n",
    "    c*α̇**2*sin(α)*cos(α) + \n",
    "    u*τ*cos(α) +\n",
    "    (d+f) * (g*α̇ + h*θ̇**2*sin(2*α) + i*sin(α)) +\n",
    "    e * (sin(α)**2*g*α̇ + h*θ̇**2*sin(α)**2*sin(2*α) + i*sin(α)**3)\n",
    "\n",
    ")\n",
    "\n",
    "# Should equal 0\n",
    "simplify(α̈_2 - α̈)"
   ]
  },
  {
   "cell_type": "markdown",
   "metadata": {},
   "source": [
    "### More rearranging to get the equation into a nicer form\n",
    "Where each component is seperate (excluding sines and cosines)"
   ]
  },
  {
   "cell_type": "code",
   "execution_count": 69,
   "metadata": {},
   "outputs": [],
   "source": [
    "# Coefficients of each (α̇, θ̇, α̇θ̇, α̇^2, θ̇^2, 1, τ)\n",
    "k_α̇  = (d+f)*(g) + e*(sin(α)**2*g)\n",
    "k_θ̇  = a*cos(α)\n",
    "k_α̇θ̇ = b*sin(2*α)*cos(α)\n",
    "k_α̇α̇ = c*sin(α)*cos(α)\n",
    "k_θ̇θ̇ = (d+f)*(h*sin(2*α)) + e*(h*sin(α)**2*sin(2*α))\n",
    "k_1  = (d+f)*(i*sin(α)) + e*(i*sin(α)**3)\n",
    "k_τ  = u*cos(α)"
   ]
  },
  {
   "cell_type": "code",
   "execution_count": 70,
   "metadata": {},
   "outputs": [
    {
     "data": {
      "image/png": "[encoded data removed]",
      "text/latex": [
       "$$0$$"
      ],
      "text/plain": [
       "0"
      ]
     },
     "execution_count": 70,
     "metadata": {},
     "output_type": "execute_result"
    }
   ],
   "source": [
    "# Should be equal to the original\n",
    "α̈_3 = (1/z) * (\n",
    "    k_α̇ * α̇ +\n",
    "    k_θ̇ * θ̇ +\n",
    "    k_α̇θ̇ * α̇*θ̇ +\n",
    "    k_α̇α̇ * α̇*α̇ +\n",
    "    k_θ̇θ̇ * θ̇*θ̇ +\n",
    "    k_1 * 1 +\n",
    "    k_τ * τ\n",
    ")\n",
    "\n",
    "# Should equal 0\n",
    "simplify(α̈_3 - α̈)"
   ]
  },
  {
   "cell_type": "code",
   "execution_count": 72,
   "metadata": {},
   "outputs": [],
   "source": [
    "k_1 = k_θ̇θ̇\n",
    "k_2 = k_α̇θ̇\n",
    "k_3 = k_θ̇\n",
    "k_4 = k_α̇α̇\n",
    "k_5 = k_α̇\n",
    "k_6 = k_1\n",
    "k_u = k_τ\n",
    "z = z"
   ]
  },
  {
   "cell_type": "code",
   "execution_count": 73,
   "metadata": {},
   "outputs": [
    {
     "name": "stdout",
     "output_type": "stream",
     "text": [
      "-0.5*Lp**4*mp**2*sin(α)**2*sin(2*α) + Lp**2*mp*(-2.0*Jr - 2.0*Lr**2*mp)*sin(2*α) 2*Lp**3*Lr*mp**2*sin(2*α)*cos(α) 8*Dr*Lp*Lr*mp*cos(α) 4*Lp**2*Lr**2*mp**2*sin(α)*cos(α) 4.0*Dp*Lp**2*mp*sin(α)**2 - 8*Dp*(-2.0*Jr - 2.0*Lr**2*mp) -0.5*Lp**4*mp**2*sin(α)**2*sin(2*α) + Lp**2*mp*(-2.0*Jr - 2.0*Lr**2*mp)*sin(2*α) -8*Lp*Lr*mp*cos(α) 4*Lp**2*Lr**2*mp**2*cos(α)**2 - (4*Jp + Lp**2*mp)*(4*Jr + Lp**2*mp*sin(α)**2 + 4*Lr**2*mp)\n"
     ]
    }
   ],
   "source": [
    "print(\n",
    "k_1,\n",
    "k_2,\n",
    "k_3,\n",
    "k_4,\n",
    "k_5,\n",
    "k_6,\n",
    "k_u,\n",
    "z)"
   ]
  },
  {
   "cell_type": "code",
   "execution_count": null,
   "metadata": {},
   "outputs": [],
   "source": []
  }
 ],
 "metadata": {
  "kernelspec": {
   "display_name": "Math+",
   "language": "python",
   "name": "math"
  },
  "language_info": {
   "codemirror_mode": {
    "name": "ipython",
    "version": 3
   },
   "file_extension": ".py",
   "mimetype": "text/x-python",
   "name": "python",
   "nbconvert_exporter": "python",
   "pygments_lexer": "ipython3",
   "version": "3.7.0"
  }
 },
 "nbformat": 4,
 "nbformat_minor": 4
}
