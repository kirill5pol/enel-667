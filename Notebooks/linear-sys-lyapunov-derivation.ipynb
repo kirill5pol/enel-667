{
 "cells": [
  {
   "cell_type": "code",
   "execution_count": 2,
   "metadata": {},
   "outputs": [],
   "source": [
    "from __future__ import absolute_import, print_function, division\n",
    "from sympy import *\n",
    "import numpy as np"
   ]
  },
  {
   "cell_type": "code",
   "execution_count": 1,
   "metadata": {},
   "outputs": [],
   "source": [
    "A = np.array([\n",
    "    [0., 0., 1., 0.], \n",
    "    [0., 0., 0., 1.], \n",
    "    [0., 149.27509687, -14.92870315, -4.91493074], \n",
    "    [0., 261.60910737, -14.75511358, -8.61356429]\n",
    "])\n",
    "B = np.array([0., 0., 49.72753455, 49.1493074])"
   ]
  },
  {
   "cell_type": "code",
   "execution_count": 2,
   "metadata": {},
   "outputs": [
    {
     "data": {
      "text/plain": [
       "array([[  0.        ,   0.        ,   1.        ,   0.        ],\n",
       "       [  0.        ,   0.        ,   0.        ,   1.        ],\n",
       "       [  0.        , 149.27509687, -14.92870315,  -4.91493074],\n",
       "       [  0.        , 261.60910737, -14.75511358,  -8.61356429]])"
      ]
     },
     "execution_count": 2,
     "metadata": {},
     "output_type": "execute_result"
    }
   ],
   "source": [
    "A"
   ]
  },
  {
   "cell_type": "code",
   "execution_count": 3,
   "metadata": {},
   "outputs": [
    {
     "data": {
      "text/plain": [
       "array([ 0.        ,  0.        , 49.72753455, 49.1493074 ])"
      ]
     },
     "execution_count": 3,
     "metadata": {},
     "output_type": "execute_result"
    }
   ],
   "source": [
    "B"
   ]
  },
  {
   "cell_type": "code",
   "execution_count": null,
   "metadata": {},
   "outputs": [],
   "source": []
  }
 ],
 "metadata": {
  "kernelspec": {
   "display_name": "Math+",
   "language": "python",
   "name": "math"
  },
  "language_info": {
   "codemirror_mode": {
    "name": "ipython",
    "version": 3
   },
   "file_extension": ".py",
   "mimetype": "text/x-python",
   "name": "python",
   "nbconvert_exporter": "python",
   "pygments_lexer": "ipython3",
   "version": "3.7.0"
  }
 },
 "nbformat": 4,
 "nbformat_minor": 4
}
