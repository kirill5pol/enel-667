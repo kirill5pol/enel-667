{
 "cells": [
  {
   "cell_type": "code",
   "execution_count": 5,
   "metadata": {},
   "outputs": [],
   "source": [
    "import numpy\n",
    "from sympy import *"
   ]
  },
  {
   "cell_type": "code",
   "execution_count": 77,
   "metadata": {
    "jupyter": {
     "source_hidden": true
    }
   },
   "outputs": [],
   "source": [
    "# theta, theta_dot, theta_d_dot, alpha, alpha_dot, alpha_d_dot = symbols(\"θ θ̇ θ̈ α α̇ α̈\")\n",
    "x1, x2, x3, x4, x1_dot, x2_dot, x3_dot, x4_dot = symbols(\"x_1, x_2, x_3, x_4, ẋ_1, ẋ_2, ẋ_3, ẋ_4\")\n",
    "f1, f2, f3, f4 = symbols(\"f_1, f_2, f_3, f_4\")\n",
    "f1_hat, f2_hat, f3_hat, f4_hat = symbols(\"f̂_1, f̂_2, f̂_3, f̂_4\")\n",
    "eta, u = symbols(\"η u\")\n",
    "x1_d, x2_d, x3_d, x4_d = symbols(\"x_{1d}, x_{2d}, x_{3d}, x_{4d}\")"
   ]
  },
  {
   "cell_type": "code",
   "execution_count": 57,
   "metadata": {
    "jupyter": {
     "source_hidden": true
    }
   },
   "outputs": [],
   "source": [
    "# # # States\n",
    "# x1 = theta\n",
    "# x2 = theta_dot\n",
    "# x3 = alpha\n",
    "# x4 = alpha_dot"
   ]
  },
  {
   "cell_type": "code",
   "execution_count": 75,
   "metadata": {
    "jupyter": {
     "source_hidden": true
    }
   },
   "outputs": [],
   "source": [
    "# # Function approximators\n",
    "# f1 = 0\n",
    "# f2 = -x3 + x2_dot  # theta_d_dot\n",
    "# f3 = 0\n",
    "# f4 = -eta*u + x4_dot  # alpha_d_dot"
   ]
  },
  {
   "cell_type": "code",
   "execution_count": 76,
   "metadata": {},
   "outputs": [],
   "source": [
    "# Derivatives of states\n",
    "x1_dot = x2 + f1\n",
    "x2_dot = x3 + f2\n",
    "x3_dot = x4 + f3\n",
    "x4_dot = eta*u + f4"
   ]
  },
  {
   "cell_type": "code",
   "execution_count": 61,
   "metadata": {},
   "outputs": [],
   "source": [
    "z1 = x1 - x1_d\n",
    "z2 = x2 - x2_d\n",
    "z3 = x3 - x3_d\n",
    "z4 = x4 - x4_d"
   ]
  },
  {
   "cell_type": "code",
   "execution_count": 80,
   "metadata": {},
   "outputs": [],
   "source": [
    "v1 = (1/2) * (z1 ** 2)\n",
    "v2 = (1/2) * (z2 ** 2)\n",
    "v3 = (1/2) * ((z3 + x3) ** 2)\n",
    "v4 = (1/2) * ((z4 + x4) ** 2)"
   ]
  },
  {
   "cell_type": "code",
   "execution_count": null,
   "metadata": {},
   "outputs": [],
   "source": []
  },
  {
   "cell_type": "code",
   "execution_count": null,
   "metadata": {},
   "outputs": [],
   "source": []
  }
 ],
 "metadata": {
  "kernelspec": {
   "display_name": "qube",
   "language": "python",
   "name": "qube"
  },
  "language_info": {
   "codemirror_mode": {
    "name": "ipython",
    "version": 3
   },
   "file_extension": ".py",
   "mimetype": "text/x-python",
   "name": "python",
   "nbconvert_exporter": "python",
   "pygments_lexer": "ipython3",
   "version": "3.6.0"
  }
 },
 "nbformat": 4,
 "nbformat_minor": 4
}
